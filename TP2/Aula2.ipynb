{
 "cells": [
  {
   "cell_type": "markdown",
   "id": "1e545158",
   "metadata": {},
   "source": [
    "# Aula Prática 2 (guião)\n",
    "### Semana de 16 a 20 de Setembro de 2024\n",
    "### José Carlos Ramalho e Luís Cunha\n",
    "### Sinopsis:\n",
    "Algoritmos de cálculo numérico envolvendo estruturas condicionais (if-elif-else) e cíclicas simples (while)."
   ]
  },
  {
   "cell_type": "markdown",
   "id": "2ed39c3b",
   "metadata": {},
   "source": [
    "### Exercício 1: Maior de 2 números \n",
    "- Especifique um programa que recebe dois valores e escreve na saída o maior."
   ]
  },
  {
   "cell_type": "code",
   "execution_count": 1,
   "id": "ae0b0a36",
   "metadata": {},
   "outputs": [
    {
     "name": "stdout",
     "output_type": "stream",
     "text": [
      "6\n"
     ]
    }
   ],
   "source": [
    "num1=input()\n",
    "num2=input()\n",
    "if num1>num2:\n",
    "    print(num1)\n",
    "else:\n",
    "    print(num2)\n",
    " "
   ]
  },
  {
   "cell_type": "markdown",
   "id": "6b8dd991",
   "metadata": {},
   "source": [
    "### Exercício 2: Maior de 3 números \n",
    "- Especifique um programa que recebe três valores e escreve na saída o maior."
   ]
  },
  {
   "cell_type": "code",
   "execution_count": 11,
   "id": "35bd2d89",
   "metadata": {},
   "outputs": [
    {
     "ename": "SyntaxError",
     "evalue": "invalid syntax (3776346768.py, line 9)",
     "output_type": "error",
     "traceback": [
      "\u001b[1;36m  Cell \u001b[1;32mIn[11], line 9\u001b[1;36m\u001b[0m\n\u001b[1;33m    elif:\u001b[0m\n\u001b[1;37m        ^\u001b[0m\n\u001b[1;31mSyntaxError\u001b[0m\u001b[1;31m:\u001b[0m invalid syntax\n"
     ]
    }
   ],
   "source": [
    "num1=int(input(\"Número 1\"))\n",
    "num2=int(input(\"Número 2\"))\n",
    "num3=int(input(\"Número 3\"))\n",
    "if num1>num2:\n",
    "   if num3>num2:\n",
    "    print(num3)\n",
    "   else:\n",
    "      print(num1)\n",
    "elif num2>num3:\n",
    "    print(num2)\n",
    "else:\n",
    "     print(num3)\n",
    "\n",
    " "
   ]
  },
  {
   "cell_type": "markdown",
   "id": "c1321c0e",
   "metadata": {},
   "source": [
    "### Exercício 3: Sobrinhos do Pato Donald\n",
    "\n",
    "- Especifique um programa que lê um nome e se este for `Hugo`, `Luís` ou `Zé` identifica-o como sobrinho do Pato Donald, se for outro nome deve indicar que o mesmo ."
   ]
  },
  {
   "cell_type": "code",
   "execution_count": 9,
   "id": "cf6f77f6",
   "metadata": {},
   "outputs": [
    {
     "name": "stdout",
     "output_type": "stream",
     "text": [
      "É sobrinho do Pato Donald\n"
     ]
    }
   ],
   "source": [
    "n=input(\"Nome\")\n",
    "if n==\"Hugo\":\n",
    "    print(\"É sobrinho do Pato Donald\")\n",
    "elif n==\"Luís\":\n",
    "    print(\"É sobrinho do Pato Donald\")\n",
    "elif n==\"Zé\":\n",
    "    print(\"É sobrinho do Pato DonalD\")\n",
    "else:\n",
    "    print(\"Não é sobrinho de nínguém conhecido\")\n",
    "\n",
    "\n"
   ]
  },
  {
   "cell_type": "markdown",
   "id": "3c88b246",
   "metadata": {},
   "source": [
    "### Exercício 4: Índice de Massa Corporal\n",
    "- Especifique um programa que recebe dois parâmetros, **peso**,**altura**, calcula o IMC corresponente e interpreta esse resultado.\n",
    "- Input: 53 e 1.56 \n",
    "- Output: \"O seu índice de massa corporal é **21.78** e encontra-se na categoria **Normal**\"\n",
    "\n",
    "Valores para a interpretação:\n",
    "- Menor que 18,5 - Baixo peso\n",
    "- 18,5 a 24,9 - Normal\n",
    "- 25 a 29,9\t- Excesso de peso\n",
    "- 30 a 34,9\t- Obesidade grau I\n",
    "- 35 a 39,9\t- Obesidade grau II\n",
    "- Maior que 40\t- Obesidade grau III"
   ]
  },
  {
   "cell_type": "code",
   "execution_count": 52,
   "id": "39bf1752",
   "metadata": {},
   "outputs": [
    {
     "name": "stdout",
     "output_type": "stream",
     "text": [
      "O seu índice de massa corporal é 17.70857696548498 e encontra-se na categoria Baixo peso\n"
     ]
    }
   ],
   "source": [
    "p=float(input(\"Peso\"))\n",
    "a=float(input(\"Altura\"))\n",
    "imc= p/(a*a)\n",
    "if imc <= 39.9 and imc>=35:\n",
    "        print(f\"O seu índice de massa corporal é {imc} e encontra-se na categoria Obesidade grau II\")\n",
    "elif imc <= 34.9 and imc>=30:\n",
    "     print(f\"O seu índice de massa corporal é {imc} e encontra-se na categoria Obesidade grau I\")\n",
    "elif imc <=29.9 and imc>=25:\n",
    "      print(f\"O seu índice de massa corporal é {imc} e encontra-se na categoria Excesso de peso\")\n",
    "elif imc <=24.9 and imc>=18.5:\n",
    "    print(f\"O seu índice de massa corporal é {imc} e encontra-se na categoria Normal\")\n",
    "elif imc< 18.5:\n",
    "      print(f\"O seu índice de massa corporal é {imc} e encontra-se na categoria Baixo peso\")\n",
    "else:\n",
    "       print(f\"O seu índice de massa corporal é {imc} e encontra-se na categoria Obesidade grau III\")\n",
    "    \n"
   ]
  },
  {
   "cell_type": "markdown",
   "id": "380a0795",
   "metadata": {},
   "source": [
    "## Teoria: estrutura cíclica `while` \n",
    "\n",
    "Estrutura:\n",
    "```python\n",
    "    while cond:\n",
    "        ação\n",
    "        ...\n",
    "```"
   ]
  },
  {
   "cell_type": "markdown",
   "id": "cb12baa4",
   "metadata": {},
   "source": [
    "### Exemplo: Somar os inteiros entre 1 e 10 "
   ]
  },
  {
   "cell_type": "code",
   "execution_count": null,
   "id": "39cbe01f",
   "metadata": {},
   "outputs": [],
   "source": []
  },
  {
   "cell_type": "markdown",
   "id": "e38d18c4-d7d7-4fea-9bc6-e3f3c903386b",
   "metadata": {},
   "source": [
    "### Exercício 5: Soma de N números\n",
    "- Leia um número N;\n",
    "- Leia N números;\n",
    "- Imprima a soma dos N números."
   ]
  },
  {
   "cell_type": "code",
   "execution_count": 27,
   "id": "af973146-3bb4-4fa8-ba6c-b887b79ccff8",
   "metadata": {},
   "outputs": [
    {
     "name": "stdout",
     "output_type": "stream",
     "text": [
      "3\n"
     ]
    }
   ],
   "source": [
    "n=int(input((\"Quantas vezes quer somar\")))\n",
    "soma=0\n",
    "i=0\n",
    "while i<n:\n",
    "    f= int(input(\"Número\"))\n",
    "    i=i+1\n",
    "    soma=soma+f\n",
    "print(soma)\n",
    "\n"
   ]
  },
  {
   "cell_type": "markdown",
   "id": "bdcbffb0",
   "metadata": {},
   "source": [
    "### Exercício 6: O Maior de N números\n",
    "- Leia um número N;\n",
    "- Leia N números;\n",
    "- Imprima o maior dos N números."
   ]
  },
  {
   "cell_type": "code",
   "execution_count": 1,
   "id": "af973146-3bb4-4fa8-ba6c-b887b79ccff8",
   "metadata": {},
   "outputs": [
    {
     "name": "stdout",
     "output_type": "stream",
     "text": [
      "90\n"
     ]
    }
   ],
   "source": [
    "n=int(input((\"Quantos números quer?\")))\n",
    "i=1\n",
    "n1=int(input(\"Número\"))\n",
    "while i<n:\n",
    "    i=i+1  \n",
    "    f= int(input(\"Número\"))\n",
    "    if n1<f:\n",
    "      n1=f\n",
    "print(n1)\n",
    "\n",
    "    \n",
    "\n",
    "    \n",
    "\n",
    "\n"
   ]
  },
  {
   "cell_type": "markdown",
   "id": "bdcbffb0",
   "metadata": {},
   "source": [
    "### Exercício 7: O Menor de N números\n",
    "- Leia um número N;\n",
    "- Leia N números;\n",
    "- Imprima o menor dos N números."
   ]
  },
  {
   "cell_type": "code",
   "execution_count": 3,
   "id": "64ad6f7b",
   "metadata": {},
   "outputs": [
    {
     "name": "stdout",
     "output_type": "stream",
     "text": [
      "1\n"
     ]
    }
   ],
   "source": [
    "n=int(input((\"Quantos números quer?\")))\n",
    "i=1\n",
    "n1=int(input(\"Número\"))\n",
    "while i<n:\n",
    "    i=i+1  \n",
    "    f= int(input(\"Número\"))\n",
    "    if n1>f:\n",
    "      n1=f\n",
    "print(n1)"
   ]
  },
  {
   "cell_type": "markdown",
   "id": "bdcbffb0",
   "metadata": {},
   "source": [
    "### Exercício 8: A Média de N números\n",
    "- Leia um número N;\n",
    "- Leia N números;\n",
    "- Imprima a média dos N números."
   ]
  },
  {
   "cell_type": "code",
   "execution_count": 6,
   "id": "a6c32b2e",
   "metadata": {},
   "outputs": [
    {
     "name": "stdout",
     "output_type": "stream",
     "text": [
      "52.0\n"
     ]
    }
   ],
   "source": [
    "n=int(input((\"Quantos números quer?\")))\n",
    "i=1\n",
    "n1=int(input(\"Número\"))\n",
    "while i<n:\n",
    "    i=i+1  \n",
    "    f= int(input(\"Número\"))\n",
    "    n1=n1+f\n",
    "print(n1/n)"
   ]
  },
  {
   "cell_type": "markdown",
   "id": "009d98eb",
   "metadata": {},
   "source": [
    "## Teoria: definição de uma função `def` \n",
    "\n",
    "Estrutura:\n",
    "```python\n",
    "    def f1(param1, param2, ..., paramn):\n",
    "        ação1\n",
    "        ação2\n",
    "        ...\n",
    "        return resultado\n",
    "```"
   ]
  },
  {
   "cell_type": "markdown",
   "id": "63b7e3d9",
   "metadata": {},
   "source": [
    "### Exemplo: Somar os números inteiros de 1 até N"
   ]
  },
  {
   "cell_type": "code",
   "execution_count": 3,
   "id": "cb9eaa82",
   "metadata": {},
   "outputs": [
    {
     "name": "stdout",
     "output_type": "stream",
     "text": [
      "15\n"
     ]
    }
   ],
   "source": [
    "def somatorio(n):\n",
    "    i = 1\n",
    "    res = 0\n",
    "    while i <= n:\n",
    "        res = res + i\n",
    "        i = i + 1\n",
    "    return res \n",
    "\n",
    "num = int(input(\"Introduza um número inteiro positivo:\"))\n",
    "print(somatorio(num))"
   ]
  },
  {
   "cell_type": "markdown",
   "id": "52b57208",
   "metadata": {},
   "source": [
    "### Exercício 9: \n",
    "\n",
    "* Use a função definida no exemplo anterior para escrever no monitor uma lista de pares: (n, somatorio(n));\n",
    "* Faça n variar entre 10 e 1000 com um salto de 10: 10, 20, 30, ..., 1000."
   ]
  },
  {
   "cell_type": "code",
   "execution_count": 9,
   "id": "b8eaa902",
   "metadata": {},
   "outputs": [
    {
     "name": "stdout",
     "output_type": "stream",
     "text": [
      "(5, 150)\n"
     ]
    }
   ],
   "source": [
    "def somatorio(n):\n",
    "    i = 1\n",
    "    res = 0\n",
    "    while i <= n:\n",
    "        res = res + 10*i\n",
    "        i = i + 1\n",
    "    return n,res \n",
    "\n",
    "num = int(input(\"Introduza um número inteiro positivo:\"))\n",
    "print(somatorio(num))"
   ]
  },
  {
   "cell_type": "markdown",
   "id": "f41ef69b",
   "metadata": {},
   "source": [
    "### Exercício 10: Potência\n",
    "- Defina uma função **pot** que recebe dois parâmetros, **a** e **b**, e retorna o resultado de **a elevado à potência de b**.\n",
    "- Use esta função para escrever no monitor as potências de 2 com expoentes de 1 a 20."
   ]
  },
  {
   "cell_type": "code",
   "execution_count": 20,
   "id": "86f5b24d",
   "metadata": {},
   "outputs": [
    {
     "name": "stdout",
     "output_type": "stream",
     "text": [
      "2\n",
      "4\n",
      "8\n",
      "16\n",
      "32\n",
      "64\n",
      "128\n",
      "256\n",
      "512\n",
      "1024\n",
      "2048\n",
      "4096\n",
      "8192\n",
      "16384\n",
      "32768\n",
      "65536\n",
      "131072\n",
      "262144\n",
      "524288\n",
      "1048576\n"
     ]
    }
   ],
   "source": [
    "# Solução do exercício 10\n",
    "\n",
    "def pot(a,b):\n",
    "    res=a**b\n",
    "    return res\n",
    "def printpot2(n):\n",
    "    i=1\n",
    "    while i<=n:\n",
    "        print(pot(2,i))\n",
    "        i=i+1\n",
    "\n",
    "printpot2(20)    "
   ]
  },
  {
   "cell_type": "markdown",
   "id": "d11cdd11",
   "metadata": {},
   "source": [
    "### Exercício 11: Série numérica\n",
    "- Defina uma função **serie** que recebe três parâmetros, **base**, **salto** e **nelems**, e escreve no monitor a série;\n",
    "- Invocada com: **serie(7, 4, 5)** escreveria: 7, 11, 15, 19, 23"
   ]
  },
  {
   "cell_type": "code",
   "execution_count": 27,
   "id": "7549c7d7",
   "metadata": {},
   "outputs": [
    {
     "name": "stdout",
     "output_type": "stream",
     "text": [
      "7\n",
      "11\n",
      "15\n",
      "19\n",
      "23\n",
      "None\n"
     ]
    }
   ],
   "source": [
    "def serie(base,salto,nelems):\n",
    "    i=0\n",
    "\n",
    "    while i<nelems:\n",
    "        n=base+salto*i\n",
    "        i=i+1\n",
    "        print(n)\n",
    "\n",
    "    \n",
    "print(serie(7,4,5))\n",
    "    \n",
    "    \n"
   ]
  },
  {
   "cell_type": "markdown",
   "id": "73187e87",
   "metadata": {},
   "source": [
    "### Exercício 12: Desenhar um quadrado\n",
    "- Defina uma função **quad** que recebe um argumento, **n**, e desenha no monitor um quadrado usando o caráter '#';\n",
    "- O resultado da invocação dessa função com um argumento 3 deverá ser:\n",
    "```\n",
    "###\n",
    "###\n",
    "###\n",
    "```"
   ]
  },
  {
   "cell_type": "code",
   "execution_count": 38,
   "id": "a31f8eaf",
   "metadata": {},
   "outputs": [
    {
     "name": "stdout",
     "output_type": "stream",
     "text": [
      "#####\n",
      "#####\n",
      "#####\n",
      "#####\n",
      "#####\n"
     ]
    }
   ],
   "source": [
    "def quad(n):\n",
    "    i=0\n",
    "    while i<n:\n",
    "        x=0\n",
    "        linha=\"\"\n",
    "        while x<n:\n",
    "            linha =linha + \"#\"\n",
    "            x=x+1\n",
    "        print(linha)\n",
    "        i=i+1\n",
    "quad(5)"
   ]
  },
  {
   "cell_type": "markdown",
   "id": "10b1d00c",
   "metadata": {},
   "source": [
    "### Exercício 13: Desenhar um quadrado\n",
    "- Defina uma função que desenhe no ecran (usando os caracteres # e _) um tabuleiro de xadrez; \n",
    "- O resultado da invocação dessa função com um argumento 5 deverá ser:\n",
    "```\n",
    "#_#_#\n",
    "_#_#_\n",
    "#_#_#\n",
    "_#_#_\n",
    "#_#_#\n",
    "```"
   ]
  },
  {
   "cell_type": "code",
   "execution_count": 49,
   "id": "a4ccf6e1",
   "metadata": {},
   "outputs": [
    {
     "name": "stdout",
     "output_type": "stream",
     "text": [
      "#_#_#\n",
      "_#_#_\n",
      "#_#_#\n",
      "_#_#_\n",
      "#_#_#\n"
     ]
    }
   ],
   "source": [
    "def quad(n):\n",
    "    i=0\n",
    "    while i<n:\n",
    "        x=0\n",
    "        linha=\"\"\n",
    "        while x<n:\n",
    "            if (x+i)%2==0:\n",
    "                linha =linha + \"#\"\n",
    "            else:\n",
    "                linha =linha + \"_\"\n",
    "            x=x+1\n",
    "        print(linha)\n",
    "        i=i+1\n",
    "quad(5)\n"
   ]
  },
  {
   "cell_type": "markdown",
   "id": "f4e2bc84",
   "metadata": {},
   "source": [
    "### Exercício 14: Índice de Massa Corporal\n",
    "- Defina uma função **imc** que recebe dois parâmetros, **peso**,**altura**, calcula o IMC corresponente e interpreta esse resultado.\n",
    "- imc(53,1.56) - Output: \"O seu índice de massa corporal é **21.78** e encontra-se na categoria **Normal**\"\n",
    "- imc(83,1.56) - Output: \"O seu índice de massa corporal é **34.11** e encontra-se na categoria **Obesidade grau I**\"\n",
    "\n",
    "Valores:\n",
    "- Menor que 18,5 - Baixo peso\n",
    "- 18,5 a 24,9 - Normal\n",
    "- 25 a 29,9\t- Excesso de peso\n",
    "- 30 a 34,9\t- Obesidade grau I\n",
    "- 35 a 39,9\t- Obesidade grau II\n",
    "- Maior que 40\t- Obesidade grau III"
   ]
  },
  {
   "cell_type": "code",
   "execution_count": 56,
   "id": "2a62004a",
   "metadata": {},
   "outputs": [
    {
     "name": "stdout",
     "output_type": "stream",
     "text": [
      "O seu índice de massa corporal é 34.11 e encontra-se na categoria Obesidade grau I\n"
     ]
    }
   ],
   "source": [
    "\n",
    "def imc(p,a):\n",
    "    num1= float(\"{:.2f}\".format(p/(a*a)))\n",
    "    if num1 <= 39.9 and num1>=35:\n",
    "            print(f\"O seu índice de massa corporal é {num1} e encontra-se na categoria Obesidade grau II\")\n",
    "    elif num1 <= 34.9 and num1>=30:\n",
    "        print(f\"O seu índice de massa corporal é {num1} e encontra-se na categoria Obesidade grau I\")\n",
    "    elif num1 <=29.9 and num1>=25:\n",
    "        print(f\"O seu índice de massa corporal é {num1} e encontra-se na categoria Excesso de peso\")\n",
    "    elif num1 <=24.9 and num1>=18.5:\n",
    "        print(f\"O seu índice de massa corporal é {num1} e encontra-se na categoria Normal\")\n",
    "    elif num1< 18.5:\n",
    "        print(f\"O seu índice de massa corporal é {num1} e encontra-se na categoria Baixo peso\")\n",
    "    else:\n",
    "        print(f\"O seu índice de massa corporal é {num1} e encontra-se na categoria Obesidade grau III\")\n",
    "        \n",
    "\n",
    "imc(83,1.56)\n",
    "        \n"
   ]
  },
  {
   "cell_type": "markdown",
   "id": "5dcb3573",
   "metadata": {},
   "source": [
    "### Exercício 15: Série de Fibonacci\n",
    "- Defina uma função **fib** que recebe um argumento, **n**, e escreve no monitor os primeiros n elementos da série de fibonacci;\n",
    "- A série de Fibonacci tem a seguinte definição matemática:\n",
    "    - Se n < 2 ==> 1\n",
    "    - Se n >= 2 ==> fib(n-1) + fib(n-2)"
   ]
  },
  {
   "cell_type": "code",
   "execution_count": 71,
   "id": "fc54507c",
   "metadata": {},
   "outputs": [
    {
     "name": "stdout",
     "output_type": "stream",
     "text": [
      "1\n",
      "1\n",
      "2\n",
      "3\n"
     ]
    }
   ],
   "source": [
    "def fib(n):\n",
    "    a=0\n",
    "    b=1\n",
    "    i=1\n",
    "    print(1)\n",
    "    while i<n:\n",
    "        i=i+1\n",
    "        c=a+b\n",
    "        a=b\n",
    "        b=c\n",
    "        print (c)\n",
    "\n",
    "\n",
    "\n",
    "fib(4)"
   ]
  },
  {
   "cell_type": "markdown",
   "id": "81703f1b",
   "metadata": {},
   "source": [
    "### TPC2: Adivinha o número\n",
    "- Crie um programa em Python para jogar o jogo \"Adivinha o número\":\n",
    "    - O jogo pode ter 2 modalidades: computador pensa num número (entre 0 e 100), utilizador tenta adivinhar; ou, o utilizador pensa num número (entre 0 e 100) e o computador tenta adivinhar;\n",
    "    - Quem tenta adivinhar responde com uma das afirmações: \"Acertou\", \"O número que pensei é Maior\" ou \"O número que pensei é Menor\";\n",
    "    - Uma vez descoberto o número o programa deverá terminar imprimindo o número de tentativas que quem adivinhou usou para chegar ao resultado."
   ]
  },
  {
   "cell_type": "code",
   "execution_count": 18,
   "id": "3be23d0f",
   "metadata": {},
   "outputs": [
    {
     "name": "stdout",
     "output_type": "stream",
     "text": [
      "Que jogo queres jogar?\n",
      "1 - Escolhes um numero\n",
      "2 - Computador escolhe um numero\n",
      "É este o número: 50?\n",
      "É este o número 75?\n",
      "É este o número 63?\n",
      "É este o número 57?\n",
      "tentativas:4\n"
     ]
    }
   ],
   "source": [
    "import random\n",
    "\n",
    "def maq():\n",
    "    tentativas=1\n",
    "    limit_sup=100\n",
    "    limit_inf=0\n",
    "    guess=(limit_sup+limit_inf)//2\n",
    "\n",
    "    print(f\"É este o número {guess}?\")\n",
    "\n",
    "    resposta=input(\"Adivinhei?\")\n",
    "    while resposta!= \"Acertou\":\n",
    "\n",
    "        if resposta==\"c\":\n",
    "            limit_inf = guess+1\n",
    "            guess = (limit_sup+guess)//2\n",
    "        if resposta==\"b\":\n",
    "            limit_sup = guess-1\n",
    "            guess= (limit_inf+guess)//2\n",
    "\n",
    "        tentativas=tentativas+1\n",
    "        print(f\"É este o número {guess}?\")\n",
    "        resposta=input(\"Adivinhei?\")\n",
    "\n",
    "    print(f\"tentativas:{tentativas}\")\n",
    "\n",
    "def humano():\n",
    "    \n",
    "    tentativas=1\n",
    "    randomnum = (random.randint(0,100))\n",
    "    pergunta=int(input(\"Qual é a tua tentativa?\"))\n",
    "   \n",
    "    while pergunta!= randomnum:\n",
    "\n",
    "        if pergunta> randomnum:\n",
    "            print(\"O número que pensei é Menor\")\n",
    "        if pergunta < randomnum:\n",
    "            print(\"O número que pensei é Maior\")\n",
    "        \n",
    "        pergunta=int(input(\"Qual é a tua tentativa?\"))\n",
    "        tentativas=tentativas+1\n",
    "\n",
    "\n",
    "\n",
    "    print(f\"Acertou.O número era {randomnum}.Tentativas:{tentativas}\")\n",
    "\n",
    "print(\"Que jogo queres jogar?\")\n",
    "print(\"1 - Escolhes um numero\")\n",
    "print(\"2 - Computador escolhe um numero\")\n",
    "opcao = input()\n",
    "if opcao==\"1\":\n",
    "    maq()\n",
    "elif opcao==\"2\":\n",
    "    humano()\n",
    "\n",
    "        "
   ]
  }
 ],
 "metadata": {
  "kernelspec": {
   "display_name": "Python 3.9.1 64-bit",
   "language": "python",
   "name": "python3"
  },
  "language_info": {
   "codemirror_mode": {
    "name": "ipython",
    "version": 3
   },
   "file_extension": ".py",
   "mimetype": "text/x-python",
   "name": "python",
   "nbconvert_exporter": "python",
   "pygments_lexer": "ipython3",
   "version": "3.12.6"
  },
  "vscode": {
   "interpreter": {
    "hash": "aee8b7b246df8f9039afb4144a1f6fd8d2ca17a180786b69acc140d282b71a49"
   }
  }
 },
 "nbformat": 4,
 "nbformat_minor": 5
}
